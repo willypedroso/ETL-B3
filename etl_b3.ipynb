{
 "cells": [
  {
   "cell_type": "markdown",
   "metadata": {},
   "source": [
    "# ETL B3"
   ]
  },
  {
   "cell_type": "markdown",
   "metadata": {},
   "source": [
    "#### Importação de dependências python"
   ]
  },
  {
   "cell_type": "code",
   "execution_count": 1,
   "metadata": {},
   "outputs": [],
   "source": [
    "from assets.bot import get_b3_data\n",
    "import pandas as pd"
   ]
  },
  {
   "cell_type": "markdown",
   "metadata": {},
   "source": [
    "#### Extrair ações da bolsa de valores B3\n",
    "Extrair dados atualizados do site \"fundamentus.com.br\" em background fazendo uso da biblioteca Selenium e armazenar os dados extraídos em um Dataframe Pandas."
   ]
  },
  {
   "cell_type": "code",
   "execution_count": 2,
   "metadata": {},
   "outputs": [],
   "source": [
    "df = get_b3_data()"
   ]
  },
  {
   "cell_type": "markdown",
   "metadata": {},
   "source": [
    "#### Tratar dados dados e convertê-los para numérico\n",
    "Tratar os dados para tornar possível a conversão de string para float"
   ]
  },
  {
   "cell_type": "code",
   "execution_count": 3,
   "metadata": {},
   "outputs": [],
   "source": [
    "columns_to_convert = df.columns[1:]\n",
    "for c in columns_to_convert:\n",
    "    df[c] = df[c].str.replace('.','')\n",
    "    df[c] = df[c].str.replace(',','.')\n",
    "    df[c] = df[c].str.replace('%','')\n",
    "    df[c] = pd.to_numeric(df[c], 'coerce')"
   ]
  },
  {
   "cell_type": "markdown",
   "metadata": {},
   "source": [
    "#### Filtrar dados extraídos por P/L inferiores a 10 e superiores a 3\n",
    "Efetuar a filtragem dos dados por P/L (Preço sobre Lucro) menores que 10 e maiores que 3 para evitar distorções."
   ]
  },
  {
   "cell_type": "code",
   "execution_count": 4,
   "metadata": {},
   "outputs": [],
   "source": [
    "# Filtrar linhas por colunas com valores inferiores a 10 e superiores a 3\n",
    "df = df[(df['PL'] < 10) & (df['PL'] > 3)]"
   ]
  },
  {
   "cell_type": "markdown",
   "metadata": {},
   "source": [
    "#### Filtrar dados por P/VP inferiores a 2 e superiores a 0,5\n",
    "Efetuar a filtragem dos dados com valores de P/VP (Preço sobre Valor Patrimonial) inferiores a 2 e superiores a 0,5 para evitar distorções."
   ]
  },
  {
   "cell_type": "code",
   "execution_count": 5,
   "metadata": {},
   "outputs": [],
   "source": [
    "# Filtrar linhas por colunas com valores inferiores a 2 e superiores a 0,5\n",
    "df = df[(df['PVP'] < 2) & (df['PVP'] > 0.5)]"
   ]
  },
  {
   "cell_type": "markdown",
   "metadata": {},
   "source": [
    "#### Filtrar Dividend Yield superiores a 7% e inferiores a 14%\n",
    "Efetuar a filtragem dos dados com valores de Dividend Yield (Rendimento de Dividendos) superiores a 7% e inferiores a 14% para evitar distorções."
   ]
  },
  {
   "cell_type": "code",
   "execution_count": 6,
   "metadata": {},
   "outputs": [],
   "source": [
    "# Filtrar linhas por colunas com valores superiores a 7% e inferiores a 14%\n",
    "df = df[(df['DIVYIELD'] > 7) & (df['DIVYIELD'] < 14)]"
   ]
  },
  {
   "cell_type": "markdown",
   "metadata": {},
   "source": [
    "#### Ordenar dados por valores das ações"
   ]
  },
  {
   "cell_type": "code",
   "execution_count": 7,
   "metadata": {},
   "outputs": [],
   "source": [
    "df = df.sort_values('COTAÇÃO')"
   ]
  },
  {
   "cell_type": "markdown",
   "metadata": {},
   "source": [
    "#### Formatar valores para PT-BR (vírgulas como separadores de casas decimais)"
   ]
  },
  {
   "cell_type": "code",
   "execution_count": 8,
   "metadata": {},
   "outputs": [],
   "source": [
    "df = df.map(lambda x: str(x).replace('.', ','))"
   ]
  },
  {
   "cell_type": "markdown",
   "metadata": {},
   "source": [
    "#### Formatar colunas de valores percentuais para adicionar sinal de porcentagem"
   ]
  },
  {
   "cell_type": "code",
   "execution_count": 9,
   "metadata": {},
   "outputs": [],
   "source": [
    "columns_to_format = ['DIVYIELD','MRG_EBIT','MRG_LÍQ','ROIC','ROE','CRESC_REC5A']\n",
    "for c in columns_to_format:\n",
    "    df[c] = df[c].apply(lambda x: str(x) + '%')"
   ]
  },
  {
   "cell_type": "markdown",
   "metadata": {},
   "source": [
    "#### Mostrar 10 primeiras linhas"
   ]
  },
  {
   "cell_type": "code",
   "execution_count": 10,
   "metadata": {},
   "outputs": [
    {
     "data": {
      "text/html": [
       "<div>\n",
       "<style scoped>\n",
       "    .dataframe tbody tr th:only-of-type {\n",
       "        vertical-align: middle;\n",
       "    }\n",
       "\n",
       "    .dataframe tbody tr th {\n",
       "        vertical-align: top;\n",
       "    }\n",
       "\n",
       "    .dataframe thead th {\n",
       "        text-align: right;\n",
       "    }\n",
       "</style>\n",
       "<table border=\"1\" class=\"dataframe\">\n",
       "  <thead>\n",
       "    <tr style=\"text-align: right;\">\n",
       "      <th></th>\n",
       "      <th>PAPEL</th>\n",
       "      <th>COTAÇÃO</th>\n",
       "      <th>PL</th>\n",
       "      <th>PVP</th>\n",
       "      <th>PSR</th>\n",
       "      <th>DIVYIELD</th>\n",
       "      <th>PATIVO</th>\n",
       "      <th>PCAPGIRO</th>\n",
       "      <th>PEBIT</th>\n",
       "      <th>PATIV_CIRCLIQ</th>\n",
       "      <th>...</th>\n",
       "      <th>EVEBITDA</th>\n",
       "      <th>MRG_EBIT</th>\n",
       "      <th>MRG_LÍQ</th>\n",
       "      <th>LIQ_CORR</th>\n",
       "      <th>ROIC</th>\n",
       "      <th>ROE</th>\n",
       "      <th>LIQ2MESES</th>\n",
       "      <th>PATRIM_LÍQ</th>\n",
       "      <th>DÍVBRUT_PATRIM</th>\n",
       "      <th>CRESC_REC5A</th>\n",
       "    </tr>\n",
       "  </thead>\n",
       "  <tbody>\n",
       "    <tr>\n",
       "      <th>275</th>\n",
       "      <td>BMGB4</td>\n",
       "      <td>3,43</td>\n",
       "      <td>9,77</td>\n",
       "      <td>0,51</td>\n",
       "      <td>0,0</td>\n",
       "      <td>10,95%</td>\n",
       "      <td>0,0</td>\n",
       "      <td>0,0</td>\n",
       "      <td>0,0</td>\n",
       "      <td>0,0</td>\n",
       "      <td>...</td>\n",
       "      <td>0,0</td>\n",
       "      <td>0,0%</td>\n",
       "      <td>0,0%</td>\n",
       "      <td>0,0</td>\n",
       "      <td>0,0%</td>\n",
       "      <td>5,21%</td>\n",
       "      <td>3713410,0</td>\n",
       "      <td>3925170000,0</td>\n",
       "      <td>0,0</td>\n",
       "      <td>-6,07%</td>\n",
       "    </tr>\n",
       "    <tr>\n",
       "      <th>231</th>\n",
       "      <td>JHSF3</td>\n",
       "      <td>4,27</td>\n",
       "      <td>8,1</td>\n",
       "      <td>0,58</td>\n",
       "      <td>1,928</td>\n",
       "      <td>8,64%</td>\n",
       "      <td>0,27</td>\n",
       "      <td>1,46</td>\n",
       "      <td>6,27</td>\n",
       "      <td>-1,26</td>\n",
       "      <td>...</td>\n",
       "      <td>10,46</td>\n",
       "      <td>30,73%</td>\n",
       "      <td>23,92%</td>\n",
       "      <td>2,85</td>\n",
       "      <td>4,52%</td>\n",
       "      <td>7,1%</td>\n",
       "      <td>12437600,0</td>\n",
       "      <td>5040500000,0</td>\n",
       "      <td>0,61</td>\n",
       "      <td>29,74%</td>\n",
       "    </tr>\n",
       "    <tr>\n",
       "      <th>263</th>\n",
       "      <td>MELK3</td>\n",
       "      <td>4,7</td>\n",
       "      <td>9,33</td>\n",
       "      <td>0,8</td>\n",
       "      <td>0,819</td>\n",
       "      <td>11,94%</td>\n",
       "      <td>0,4</td>\n",
       "      <td>0,74</td>\n",
       "      <td>10,03</td>\n",
       "      <td>1,08</td>\n",
       "      <td>...</td>\n",
       "      <td>8,45</td>\n",
       "      <td>8,17%</td>\n",
       "      <td>12,84%</td>\n",
       "      <td>2,9</td>\n",
       "      <td>4,91%</td>\n",
       "      <td>8,62%</td>\n",
       "      <td>661124,0</td>\n",
       "      <td>1205200000,0</td>\n",
       "      <td>0,24</td>\n",
       "      <td>22,85%</td>\n",
       "    </tr>\n",
       "    <tr>\n",
       "      <th>189</th>\n",
       "      <td>CIEL3</td>\n",
       "      <td>5,15</td>\n",
       "      <td>6,7</td>\n",
       "      <td>1,14</td>\n",
       "      <td>2,163</td>\n",
       "      <td>8,45%</td>\n",
       "      <td>0,122</td>\n",
       "      <td>2,15</td>\n",
       "      <td>10,0</td>\n",
       "      <td>4,42</td>\n",
       "      <td>...</td>\n",
       "      <td>4,13</td>\n",
       "      <td>21,63%</td>\n",
       "      <td>32,26%</td>\n",
       "      <td>1,07</td>\n",
       "      <td>19,34%</td>\n",
       "      <td>17,02%</td>\n",
       "      <td>160113000,0</td>\n",
       "      <td>12258800000,0</td>\n",
       "      <td>0,63</td>\n",
       "      <td>-8,03%</td>\n",
       "    </tr>\n",
       "    <tr>\n",
       "      <th>270</th>\n",
       "      <td>PFRM3</td>\n",
       "      <td>5,41</td>\n",
       "      <td>9,52</td>\n",
       "      <td>0,54</td>\n",
       "      <td>0,077</td>\n",
       "      <td>7,13%</td>\n",
       "      <td>0,136</td>\n",
       "      <td>0,61</td>\n",
       "      <td>2,73</td>\n",
       "      <td>4,77</td>\n",
       "      <td>...</td>\n",
       "      <td>3,19</td>\n",
       "      <td>2,84%</td>\n",
       "      <td>0,9%</td>\n",
       "      <td>1,45</td>\n",
       "      <td>8,55%</td>\n",
       "      <td>5,64%</td>\n",
       "      <td>1154650,0</td>\n",
       "      <td>1248350000,0</td>\n",
       "      <td>0,62</td>\n",
       "      <td>16,59%</td>\n",
       "    </tr>\n",
       "    <tr>\n",
       "      <th>217</th>\n",
       "      <td>BEES3</td>\n",
       "      <td>8,86</td>\n",
       "      <td>7,55</td>\n",
       "      <td>1,26</td>\n",
       "      <td>0,0</td>\n",
       "      <td>7,43%</td>\n",
       "      <td>0,0</td>\n",
       "      <td>0,0</td>\n",
       "      <td>0,0</td>\n",
       "      <td>0,0</td>\n",
       "      <td>...</td>\n",
       "      <td>0,0</td>\n",
       "      <td>0,0%</td>\n",
       "      <td>0,0%</td>\n",
       "      <td>0,0</td>\n",
       "      <td>0,0%</td>\n",
       "      <td>16,72%</td>\n",
       "      <td>114040,0</td>\n",
       "      <td>2216350000,0</td>\n",
       "      <td>0,0</td>\n",
       "      <td>12,8%</td>\n",
       "    </tr>\n",
       "    <tr>\n",
       "      <th>235</th>\n",
       "      <td>FESA4</td>\n",
       "      <td>8,87</td>\n",
       "      <td>8,19</td>\n",
       "      <td>0,98</td>\n",
       "      <td>1,287</td>\n",
       "      <td>7,72%</td>\n",
       "      <td>0,762</td>\n",
       "      <td>2,89</td>\n",
       "      <td>8,33</td>\n",
       "      <td>4,71</td>\n",
       "      <td>...</td>\n",
       "      <td>4,39</td>\n",
       "      <td>15,45%</td>\n",
       "      <td>15,72%</td>\n",
       "      <td>3,17</td>\n",
       "      <td>11,92%</td>\n",
       "      <td>11,99%</td>\n",
       "      <td>6316920,0</td>\n",
       "      <td>3190100000,0</td>\n",
       "      <td>0,09</td>\n",
       "      <td>21,5%</td>\n",
       "    </tr>\n",
       "    <tr>\n",
       "      <th>170</th>\n",
       "      <td>RANI3</td>\n",
       "      <td>9,11</td>\n",
       "      <td>5,7</td>\n",
       "      <td>1,71</td>\n",
       "      <td>1,37</td>\n",
       "      <td>8,75%</td>\n",
       "      <td>0,63</td>\n",
       "      <td>2,63</td>\n",
       "      <td>4,88</td>\n",
       "      <td>-2,08</td>\n",
       "      <td>...</td>\n",
       "      <td>5,73</td>\n",
       "      <td>28,07%</td>\n",
       "      <td>24,05%</td>\n",
       "      <td>3,75</td>\n",
       "      <td>16,34%</td>\n",
       "      <td>29,96%</td>\n",
       "      <td>12413000,0</td>\n",
       "      <td>1279700000,0</td>\n",
       "      <td>1,27</td>\n",
       "      <td>17,82%</td>\n",
       "    </tr>\n",
       "    <tr>\n",
       "      <th>230</th>\n",
       "      <td>ITSA3</td>\n",
       "      <td>10,56</td>\n",
       "      <td>8,1</td>\n",
       "      <td>1,31</td>\n",
       "      <td>14,773</td>\n",
       "      <td>8,78%</td>\n",
       "      <td>1,035</td>\n",
       "      <td>13,88</td>\n",
       "      <td>144,84</td>\n",
       "      <td>-19,32</td>\n",
       "      <td>...</td>\n",
       "      <td>58,14</td>\n",
       "      <td>10,2%</td>\n",
       "      <td>189,33%</td>\n",
       "      <td>2,64</td>\n",
       "      <td>0,78%</td>\n",
       "      <td>16,23%</td>\n",
       "      <td>2046870,0</td>\n",
       "      <td>82952000000,0</td>\n",
       "      <td>0,13</td>\n",
       "      <td>12,11%</td>\n",
       "    </tr>\n",
       "    <tr>\n",
       "      <th>234</th>\n",
       "      <td>ITSA4</td>\n",
       "      <td>10,58</td>\n",
       "      <td>8,11</td>\n",
       "      <td>1,32</td>\n",
       "      <td>14,801</td>\n",
       "      <td>8,77%</td>\n",
       "      <td>1,037</td>\n",
       "      <td>13,91</td>\n",
       "      <td>145,12</td>\n",
       "      <td>-19,36</td>\n",
       "      <td>...</td>\n",
       "      <td>58,24</td>\n",
       "      <td>10,2%</td>\n",
       "      <td>189,33%</td>\n",
       "      <td>2,64</td>\n",
       "      <td>0,78%</td>\n",
       "      <td>16,23%</td>\n",
       "      <td>207499000,0</td>\n",
       "      <td>82952000000,0</td>\n",
       "      <td>0,13</td>\n",
       "      <td>12,11%</td>\n",
       "    </tr>\n",
       "  </tbody>\n",
       "</table>\n",
       "<p>10 rows × 21 columns</p>\n",
       "</div>"
      ],
      "text/plain": [
       "     PAPEL COTAÇÃO    PL   PVP     PSR DIVYIELD PATIVO PCAPGIRO   PEBIT  \\\n",
       "275  BMGB4    3,43  9,77  0,51     0,0   10,95%    0,0      0,0     0,0   \n",
       "231  JHSF3    4,27   8,1  0,58   1,928    8,64%   0,27     1,46    6,27   \n",
       "263  MELK3     4,7  9,33   0,8   0,819   11,94%    0,4     0,74   10,03   \n",
       "189  CIEL3    5,15   6,7  1,14   2,163    8,45%  0,122     2,15    10,0   \n",
       "270  PFRM3    5,41  9,52  0,54   0,077    7,13%  0,136     0,61    2,73   \n",
       "217  BEES3    8,86  7,55  1,26     0,0    7,43%    0,0      0,0     0,0   \n",
       "235  FESA4    8,87  8,19  0,98   1,287    7,72%  0,762     2,89    8,33   \n",
       "170  RANI3    9,11   5,7  1,71    1,37    8,75%   0,63     2,63    4,88   \n",
       "230  ITSA3   10,56   8,1  1,31  14,773    8,78%  1,035    13,88  144,84   \n",
       "234  ITSA4   10,58  8,11  1,32  14,801    8,77%  1,037    13,91  145,12   \n",
       "\n",
       "    PATIV_CIRCLIQ  ... EVEBITDA MRG_EBIT  MRG_LÍQ LIQ_CORR    ROIC     ROE  \\\n",
       "275           0,0  ...      0,0     0,0%     0,0%      0,0    0,0%   5,21%   \n",
       "231         -1,26  ...    10,46   30,73%   23,92%     2,85   4,52%    7,1%   \n",
       "263          1,08  ...     8,45    8,17%   12,84%      2,9   4,91%   8,62%   \n",
       "189          4,42  ...     4,13   21,63%   32,26%     1,07  19,34%  17,02%   \n",
       "270          4,77  ...     3,19    2,84%     0,9%     1,45   8,55%   5,64%   \n",
       "217           0,0  ...      0,0     0,0%     0,0%      0,0    0,0%  16,72%   \n",
       "235          4,71  ...     4,39   15,45%   15,72%     3,17  11,92%  11,99%   \n",
       "170         -2,08  ...     5,73   28,07%   24,05%     3,75  16,34%  29,96%   \n",
       "230        -19,32  ...    58,14    10,2%  189,33%     2,64   0,78%  16,23%   \n",
       "234        -19,36  ...    58,24    10,2%  189,33%     2,64   0,78%  16,23%   \n",
       "\n",
       "       LIQ2MESES     PATRIM_LÍQ DÍVBRUT_PATRIM CRESC_REC5A  \n",
       "275    3713410,0   3925170000,0            0,0      -6,07%  \n",
       "231   12437600,0   5040500000,0           0,61      29,74%  \n",
       "263     661124,0   1205200000,0           0,24      22,85%  \n",
       "189  160113000,0  12258800000,0           0,63      -8,03%  \n",
       "270    1154650,0   1248350000,0           0,62      16,59%  \n",
       "217     114040,0   2216350000,0            0,0       12,8%  \n",
       "235    6316920,0   3190100000,0           0,09       21,5%  \n",
       "170   12413000,0   1279700000,0           1,27      17,82%  \n",
       "230    2046870,0  82952000000,0           0,13      12,11%  \n",
       "234  207499000,0  82952000000,0           0,13      12,11%  \n",
       "\n",
       "[10 rows x 21 columns]"
      ]
     },
     "execution_count": 10,
     "metadata": {},
     "output_type": "execute_result"
    }
   ],
   "source": [
    "df.head(10)"
   ]
  },
  {
   "cell_type": "markdown",
   "metadata": {},
   "source": [
    "#### Carregar dados para uma planilha excel"
   ]
  },
  {
   "cell_type": "code",
   "execution_count": 11,
   "metadata": {},
   "outputs": [],
   "source": [
    "df.to_excel('data.xlsx',index=False)"
   ]
  }
 ],
 "metadata": {
  "kernelspec": {
   "display_name": "venv",
   "language": "python",
   "name": "python3"
  },
  "language_info": {
   "codemirror_mode": {
    "name": "ipython",
    "version": 3
   },
   "file_extension": ".py",
   "mimetype": "text/x-python",
   "name": "python",
   "nbconvert_exporter": "python",
   "pygments_lexer": "ipython3",
   "version": "3.11.7"
  }
 },
 "nbformat": 4,
 "nbformat_minor": 2
}
